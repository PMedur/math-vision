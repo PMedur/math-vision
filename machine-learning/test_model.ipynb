{
 "cells": [
  {
   "cell_type": "code",
   "execution_count": 1,
   "metadata": {
    "collapsed": true,
    "pycharm": {
     "name": "#%%\n"
    }
   },
   "outputs": [],
   "source": [
    "import tensorflow as tf\n",
    "from keras.models import Sequential\n",
    "from keras.layers import Dropout, Dense, Conv2D, Flatten, MaxPooling2D, BatchNormalization\n",
    "from keras.optimizers import rmsprop_v2\n",
    "from keras.callbacks import ReduceLROnPlateau\n",
    "import matplotlib.pyplot as plt\n",
    "import numpy as np"
   ]
  },
  {
   "cell_type": "code",
   "execution_count": 2,
   "outputs": [],
   "source": [
    "def create_model(num_classes):\n",
    "    model = Sequential()\n",
    "    model.add(Conv2D(32, (5, 5), input_shape=(100,100,1), activation=\"relu\"))\n",
    "    model.add(BatchNormalization())\n",
    "    model.add(Conv2D(32, (5, 5), activation=\"relu\"))\n",
    "    model.add(MaxPooling2D(pool_size=(2,2)))\n",
    "\n",
    "    model.add(Conv2D(64, (3, 3), activation=\"relu\"))\n",
    "    model.add(Conv2D(64, (3, 3), activation=\"relu\"))\n",
    "    model.add(MaxPooling2D(pool_size=(2,2)))\n",
    "    model.add(Dropout(0.5))\n",
    "\n",
    "    model.add(Flatten())\n",
    "    model.add(Dense(512, activation=\"relu\"))\n",
    "    model.add(Dropout(0.5))\n",
    "    model.add(Dense(num_classes, activation=\"softmax\"))\n",
    "    model.compile(optimizer=rmsprop_v2.RMSProp(learning_rate=0.001, rho=0.9, epsilon=1e-08, decay=0.0), loss=\"sparse_categorical_crossentropy\", metrics=[\"accuracy\"])\n",
    "    return model"
   ],
   "metadata": {
    "collapsed": false,
    "pycharm": {
     "name": "#%%\n"
    }
   }
  },
  {
   "cell_type": "code",
   "execution_count": 54,
   "outputs": [
    {
     "name": "stdout",
     "output_type": "stream",
     "text": [
      "Found 222464 files belonging to 19 classes.\n",
      "Using 177972 files for training.\n",
      "Found 222464 files belonging to 19 classes.\n",
      "Using 44492 files for validation.\n"
     ]
    }
   ],
   "source": [
    "batch_size = 32\n",
    "\n",
    "train_data = tf.keras.utils.image_dataset_from_directory(\n",
    "    'dataset/',\n",
    "    validation_split=0.2,\n",
    "    subset='training',\n",
    "    seed=123,\n",
    "    image_size=(100,100),\n",
    "    batch_size=batch_size,\n",
    "    color_mode='grayscale',\n",
    "    shuffle=True,\n",
    ")\n",
    "\n",
    "val_data = tf.keras.utils.image_dataset_from_directory(\n",
    "    'dataset/',\n",
    "    image_size=(100,100),\n",
    "    validation_split=0.2,\n",
    "    color_mode='grayscale',\n",
    "    batch_size=batch_size,\n",
    "    subset='validation',\n",
    "    shuffle=True,\n",
    "    seed=123\n",
    ")"
   ],
   "metadata": {
    "collapsed": false,
    "pycharm": {
     "name": "#%%\n"
    }
   }
  },
  {
   "cell_type": "code",
   "execution_count": 55,
   "outputs": [],
   "source": [
    "learning_rate_reduction = ReduceLROnPlateau(monitor='val_accuracy',\n",
    "                                            patience=3,\n",
    "                                            verbose=1,\n",
    "                                            factor=0.5,\n",
    "                                            min_lr=0.00001)"
   ],
   "metadata": {
    "collapsed": false,
    "pycharm": {
     "name": "#%%\n"
    }
   }
  },
  {
   "cell_type": "code",
   "execution_count": 56,
   "outputs": [],
   "source": [
    "learning_model = create_model(num_classes=19)"
   ],
   "metadata": {
    "collapsed": false,
    "pycharm": {
     "name": "#%%\n"
    }
   }
  },
  {
   "cell_type": "code",
   "execution_count": 57,
   "outputs": [
    {
     "name": "stdout",
     "output_type": "stream",
     "text": [
      "Model: \"sequential_2\"\n",
      "_________________________________________________________________\n",
      " Layer (type)                Output Shape              Param #   \n",
      "=================================================================\n",
      " conv2d_8 (Conv2D)           (None, 96, 96, 32)        832       \n",
      "                                                                 \n",
      " batch_normalization_2 (Batc  (None, 96, 96, 32)       128       \n",
      " hNormalization)                                                 \n",
      "                                                                 \n",
      " conv2d_9 (Conv2D)           (None, 92, 92, 32)        25632     \n",
      "                                                                 \n",
      " max_pooling2d_4 (MaxPooling  (None, 46, 46, 32)       0         \n",
      " 2D)                                                             \n",
      "                                                                 \n",
      " conv2d_10 (Conv2D)          (None, 44, 44, 64)        18496     \n",
      "                                                                 \n",
      " conv2d_11 (Conv2D)          (None, 42, 42, 64)        36928     \n",
      "                                                                 \n",
      " max_pooling2d_5 (MaxPooling  (None, 21, 21, 64)       0         \n",
      " 2D)                                                             \n",
      "                                                                 \n",
      " dropout_4 (Dropout)         (None, 21, 21, 64)        0         \n",
      "                                                                 \n",
      " flatten_2 (Flatten)         (None, 28224)             0         \n",
      "                                                                 \n",
      " dense_4 (Dense)             (None, 512)               14451200  \n",
      "                                                                 \n",
      " dropout_5 (Dropout)         (None, 512)               0         \n",
      "                                                                 \n",
      " dense_5 (Dense)             (None, 19)                9747      \n",
      "                                                                 \n",
      "=================================================================\n",
      "Total params: 14,542,963\n",
      "Trainable params: 14,542,899\n",
      "Non-trainable params: 64\n",
      "_________________________________________________________________\n",
      "Epoch 1/10\n",
      "5562/5562 [==============================] - 463s 83ms/step - loss: 0.3845 - accuracy: 0.8906 - val_loss: 2.2911 - val_accuracy: 0.2536 - lr: 0.0010\n",
      "Epoch 2/10\n",
      "5562/5562 [==============================] - 494s 89ms/step - loss: 0.3320 - accuracy: 0.9105 - val_loss: 0.2488 - val_accuracy: 0.9364 - lr: 0.0010\n",
      "Epoch 3/10\n",
      "5562/5562 [==============================] - 486s 87ms/step - loss: 0.3587 - accuracy: 0.9057 - val_loss: 0.3842 - val_accuracy: 0.9001 - lr: 0.0010\n",
      "Epoch 4/10\n",
      "5562/5562 [==============================] - 486s 87ms/step - loss: 0.6090 - accuracy: 0.8808 - val_loss: 0.2991 - val_accuracy: 0.9184 - lr: 0.0010\n",
      "Epoch 5/10\n",
      "5562/5562 [==============================] - ETA: 0s - loss: 1.2410 - accuracy: 0.8696\n",
      "Epoch 5: ReduceLROnPlateau reducing learning rate to 0.0005000000237487257.\n",
      "5562/5562 [==============================] - 536s 96ms/step - loss: 1.2410 - accuracy: 0.8696 - val_loss: 0.3207 - val_accuracy: 0.9125 - lr: 0.0010\n",
      "Epoch 6/10\n",
      "5562/5562 [==============================] - 958s 172ms/step - loss: 0.5746 - accuracy: 0.8984 - val_loss: 0.3488 - val_accuracy: 0.9096 - lr: 5.0000e-04\n",
      "Epoch 7/10\n",
      "5562/5562 [==============================] - 458s 82ms/step - loss: 0.5034 - accuracy: 0.8939 - val_loss: 0.2718 - val_accuracy: 0.9365 - lr: 5.0000e-04\n",
      "Epoch 8/10\n",
      "5562/5562 [==============================] - ETA: 0s - loss: 0.5047 - accuracy: 0.8919\n",
      "Epoch 8: ReduceLROnPlateau reducing learning rate to 0.0002500000118743628.\n",
      "5562/5562 [==============================] - 468s 84ms/step - loss: 0.5047 - accuracy: 0.8919 - val_loss: 0.3189 - val_accuracy: 0.9214 - lr: 5.0000e-04\n",
      "Epoch 9/10\n",
      "5562/5562 [==============================] - 468s 84ms/step - loss: 0.3506 - accuracy: 0.9084 - val_loss: 0.2396 - val_accuracy: 0.9406 - lr: 2.5000e-04\n",
      "Epoch 10/10\n",
      "5562/5562 [==============================] - 453s 82ms/step - loss: 0.3704 - accuracy: 0.9056 - val_loss: 0.2541 - val_accuracy: 0.9371 - lr: 2.5000e-04\n"
     ]
    }
   ],
   "source": [
    "epochs = 10\n",
    "learning_model.summary()\n",
    "history = learning_model.fit(train_data,steps_per_epoch=len(train_data),validation_data=val_data,validation_steps=len(val_data),epochs=epochs, callbacks=[learning_rate_reduction])"
   ],
   "metadata": {
    "collapsed": false,
    "pycharm": {
     "name": "#%%\n"
    }
   }
  },
  {
   "cell_type": "markdown",
   "source": [],
   "metadata": {
    "collapsed": false,
    "pycharm": {
     "name": "#%% md\n"
    }
   }
  },
  {
   "cell_type": "code",
   "execution_count": 58,
   "outputs": [
    {
     "data": {
      "text/plain": "<Figure size 576x576 with 2 Axes>",
      "image/png": "[encoded data removed]"
     },
     "metadata": {
      "needs_background": "light"
     },
     "output_type": "display_data"
    }
   ],
   "source": [
    "acc = history.history['accuracy']\n",
    "val_acc = history.history['val_accuracy']\n",
    "\n",
    "loss = history.history['loss']\n",
    "val_loss = history.history['val_loss']\n",
    "\n",
    "epochs_range = range(epochs)\n",
    "\n",
    "plt.figure(figsize=(8, 8))\n",
    "plt.subplot(1, 2, 1)\n",
    "plt.plot(epochs_range, acc, label='Training Accuracy')\n",
    "plt.plot(epochs_range, val_acc, label='Validation Accuracy')\n",
    "plt.legend(loc='lower right')\n",
    "plt.title('Training and Validation Accuracy')\n",
    "\n",
    "plt.subplot(1, 2, 2)\n",
    "plt.plot(epochs_range, loss, label='Training Loss')\n",
    "plt.plot(epochs_range, val_loss, label='Validation Loss')\n",
    "plt.legend(loc='upper right')\n",
    "plt.title('Training and Validation Loss')\n",
    "plt.show()"
   ],
   "metadata": {
    "collapsed": false,
    "pycharm": {
     "name": "#%%\n"
    }
   }
  },
  {
   "cell_type": "code",
   "execution_count": 62,
   "outputs": [
    {
     "name": "stdout",
     "output_type": "stream",
     "text": [
      "4 96.38415575027466\n"
     ]
    }
   ],
   "source": [
    "image = tf.keras.preprocessing.image.load_img('2.jpg', color_mode='grayscale')\n",
    "input_arr = tf.keras.preprocessing.image.img_to_array(image)\n",
    "input_arr = np.array([input_arr])\n",
    "arr = learning_model.predict(input_arr)\n",
    "print(str(np.argmax(arr[0])) + \" \" + str(arr[0][np.argmax(arr)] * 100))"
   ],
   "metadata": {
    "collapsed": false,
    "pycharm": {
     "name": "#%%\n"
    }
   }
  },
  {
   "cell_type": "code",
   "execution_count": 63,
   "outputs": [],
   "source": [
    "learning_model.save(\"test_modelv2.h5\")"
   ],
   "metadata": {
    "collapsed": false,
    "pycharm": {
     "name": "#%%\n"
    }
   }
  }
 ],
 "metadata": {
  "kernelspec": {
   "display_name": "Python 3",
   "language": "python",
   "name": "python3"
  },
  "language_info": {
   "codemirror_mode": {
    "name": "ipython",
    "version": 2
   },
   "file_extension": ".py",
   "mimetype": "text/x-python",
   "name": "python",
   "nbconvert_exporter": "python",
   "pygments_lexer": "ipython2",
   "version": "2.7.6"
  }
 },
 "nbformat": 4,
 "nbformat_minor": 0
}