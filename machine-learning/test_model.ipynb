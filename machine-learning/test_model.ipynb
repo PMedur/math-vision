{
 "cells": [
  {
   "cell_type": "code",
   "execution_count": 24,
   "metadata": {
    "collapsed": true,
    "pycharm": {
     "name": "#%%\n"
    }
   },
   "outputs": [],
   "source": [
    "import tensorflow as tf\n",
    "from keras.models import Sequential\n",
    "from keras.layers import Dropout, Dense, Conv2D, Flatten, MaxPooling2D, BatchNormalization\n",
    "from keras.optimizers import rmsprop_v2\n",
    "from keras.callbacks import ReduceLROnPlateau\n",
    "import matplotlib.pyplot as plt\n",
    "import numpy as np"
   ]
  },
  {
   "cell_type": "code",
   "execution_count": 25,
   "outputs": [],
   "source": [
    "def create_model(num_classes):\n",
    "    model = Sequential()\n",
    "    model.add(Conv2D(32, (5, 5), input_shape=(100,100,1), activation=\"relu\"))\n",
    "    model.add(BatchNormalization())\n",
    "    model.add(Conv2D(32, (5, 5), activation=\"relu\"))\n",
    "    model.add(MaxPooling2D(pool_size=(2,2)))\n",
    "\n",
    "    model.add(Conv2D(64, (3, 3), activation=\"relu\"))\n",
    "    model.add(Conv2D(64, (3, 3), activation=\"relu\"))\n",
    "    model.add(MaxPooling2D(pool_size=(2,2)))\n",
    "    model.add(Dropout(0.5))\n",
    "\n",
    "    model.add(Flatten())\n",
    "    model.add(Dense(512, activation=\"relu\"))\n",
    "    model.add(Dropout(0.5))\n",
    "    model.add(Dense(num_classes, activation=\"softmax\"))\n",
    "    model.compile(optimizer=rmsprop_v2.RMSProp(learning_rate=0.001, rho=0.9, epsilon=1e-08, decay=0.0), loss=\"sparse_categorical_crossentropy\", metrics=[\"accuracy\"])\n",
    "    return model"
   ],
   "metadata": {
    "collapsed": false,
    "pycharm": {
     "name": "#%%\n"
    }
   }
  },
  {
   "cell_type": "code",
   "execution_count": 26,
   "outputs": [
    {
     "name": "stdout",
     "output_type": "stream",
     "text": [
      "Found 10071 files belonging to 19 classes.\n",
      "Using 8057 files for training.\n",
      "Found 10071 files belonging to 19 classes.\n",
      "Using 2014 files for validation.\n"
     ]
    }
   ],
   "source": [
    "batch_size = 32\n",
    "\n",
    "train_data = tf.keras.utils.image_dataset_from_directory(\n",
    "    'dataset/',\n",
    "    validation_split=0.2,\n",
    "    subset='training',\n",
    "    seed=123,\n",
    "    image_size=(100,100),\n",
    "    batch_size=batch_size,\n",
    "    color_mode='grayscale',\n",
    "    shuffle=True,\n",
    ")\n",
    "\n",
    "val_data = tf.keras.utils.image_dataset_from_directory(\n",
    "    'dataset/',\n",
    "    image_size=(100,100),\n",
    "    validation_split=0.2,\n",
    "    color_mode='grayscale',\n",
    "    batch_size=batch_size,\n",
    "    subset='validation',\n",
    "    shuffle=True,\n",
    "    seed=123\n",
    ")"
   ],
   "metadata": {
    "collapsed": false,
    "pycharm": {
     "name": "#%%\n"
    }
   }
  },
  {
   "cell_type": "code",
   "execution_count": 37,
   "outputs": [],
   "source": [
    "learning_rate_reduction = ReduceLROnPlateau(monitor='val_accuracy',\n",
    "                                            patience=3,\n",
    "                                            verbose=1,\n",
    "                                            factor=0.5,\n",
    "                                            min_lr=0.00001)"
   ],
   "metadata": {
    "collapsed": false,
    "pycharm": {
     "name": "#%%\n"
    }
   }
  },
  {
   "cell_type": "code",
   "execution_count": 28,
   "outputs": [],
   "source": [
    "learning_model = create_model(num_classes=19)"
   ],
   "metadata": {
    "collapsed": false,
    "pycharm": {
     "name": "#%%\n"
    }
   }
  },
  {
   "cell_type": "code",
   "execution_count": 38,
   "outputs": [
    {
     "name": "stdout",
     "output_type": "stream",
     "text": [
      "Model: \"sequential_2\"\n",
      "_________________________________________________________________\n",
      " Layer (type)                Output Shape              Param #   \n",
      "=================================================================\n",
      " conv2d_8 (Conv2D)           (None, 96, 96, 32)        832       \n",
      "                                                                 \n",
      " batch_normalization_2 (Batc  (None, 96, 96, 32)       128       \n",
      " hNormalization)                                                 \n",
      "                                                                 \n",
      " conv2d_9 (Conv2D)           (None, 92, 92, 32)        25632     \n",
      "                                                                 \n",
      " max_pooling2d_4 (MaxPooling  (None, 46, 46, 32)       0         \n",
      " 2D)                                                             \n",
      "                                                                 \n",
      " conv2d_10 (Conv2D)          (None, 44, 44, 64)        18496     \n",
      "                                                                 \n",
      " conv2d_11 (Conv2D)          (None, 42, 42, 64)        36928     \n",
      "                                                                 \n",
      " max_pooling2d_5 (MaxPooling  (None, 21, 21, 64)       0         \n",
      " 2D)                                                             \n",
      "                                                                 \n",
      " dropout_4 (Dropout)         (None, 21, 21, 64)        0         \n",
      "                                                                 \n",
      " flatten_2 (Flatten)         (None, 28224)             0         \n",
      "                                                                 \n",
      " dense_4 (Dense)             (None, 512)               14451200  \n",
      "                                                                 \n",
      " dropout_5 (Dropout)         (None, 512)               0         \n",
      "                                                                 \n",
      " dense_5 (Dense)             (None, 19)                9747      \n",
      "                                                                 \n",
      "=================================================================\n",
      "Total params: 14,542,963\n",
      "Trainable params: 14,542,899\n",
      "Non-trainable params: 64\n",
      "_________________________________________________________________\n",
      "Epoch 1/15\n",
      "252/252 [==============================] - 21s 85ms/step - loss: 0.0888 - accuracy: 0.9861 - val_loss: 3.8334 - val_accuracy: 0.4548 - lr: 0.0010\n",
      "Epoch 2/15\n",
      "252/252 [==============================] - 21s 82ms/step - loss: 0.0677 - accuracy: 0.9875 - val_loss: 0.7544 - val_accuracy: 0.9255 - lr: 0.0010\n",
      "Epoch 3/15\n",
      "252/252 [==============================] - 20s 80ms/step - loss: 0.0645 - accuracy: 0.9904 - val_loss: 1.5690 - val_accuracy: 0.8997 - lr: 0.0010\n",
      "Epoch 4/15\n",
      "252/252 [==============================] - 20s 79ms/step - loss: 0.0779 - accuracy: 0.9907 - val_loss: 0.9510 - val_accuracy: 0.9240 - lr: 0.0010\n",
      "Epoch 5/15\n",
      "252/252 [==============================] - ETA: 0s - loss: 0.0775 - accuracy: 0.9881\n",
      "Epoch 5: ReduceLROnPlateau reducing learning rate to 0.0005000000237487257.\n",
      "252/252 [==============================] - 21s 82ms/step - loss: 0.0775 - accuracy: 0.9881 - val_loss: 1.1673 - val_accuracy: 0.9067 - lr: 0.0010\n",
      "Epoch 6/15\n",
      "252/252 [==============================] - 21s 81ms/step - loss: 0.0359 - accuracy: 0.9938 - val_loss: 0.8860 - val_accuracy: 0.9220 - lr: 5.0000e-04\n",
      "Epoch 7/15\n",
      "252/252 [==============================] - 21s 83ms/step - loss: 0.0217 - accuracy: 0.9965 - val_loss: 0.8577 - val_accuracy: 0.9270 - lr: 5.0000e-04\n",
      "Epoch 8/15\n",
      "252/252 [==============================] - 20s 81ms/step - loss: 0.0304 - accuracy: 0.9950 - val_loss: 0.9868 - val_accuracy: 0.9345 - lr: 5.0000e-04\n",
      "Epoch 9/15\n",
      "252/252 [==============================] - 21s 83ms/step - loss: 0.0285 - accuracy: 0.9950 - val_loss: 0.9535 - val_accuracy: 0.9355 - lr: 5.0000e-04\n",
      "Epoch 10/15\n",
      "252/252 [==============================] - 21s 83ms/step - loss: 0.0293 - accuracy: 0.9948 - val_loss: 0.8299 - val_accuracy: 0.9320 - lr: 5.0000e-04\n",
      "Epoch 11/15\n",
      "252/252 [==============================] - 21s 82ms/step - loss: 0.0219 - accuracy: 0.9964 - val_loss: 1.2491 - val_accuracy: 0.9275 - lr: 5.0000e-04\n",
      "Epoch 12/15\n",
      "252/252 [==============================] - ETA: 0s - loss: 0.0126 - accuracy: 0.9970\n",
      "Epoch 12: ReduceLROnPlateau reducing learning rate to 0.0002500000118743628.\n",
      "252/252 [==============================] - 21s 85ms/step - loss: 0.0126 - accuracy: 0.9970 - val_loss: 1.2105 - val_accuracy: 0.9320 - lr: 5.0000e-04\n",
      "Epoch 13/15\n",
      "252/252 [==============================] - 21s 82ms/step - loss: 0.0159 - accuracy: 0.9976 - val_loss: 1.1309 - val_accuracy: 0.9335 - lr: 2.5000e-04\n",
      "Epoch 14/15\n",
      "252/252 [==============================] - 21s 83ms/step - loss: 0.0075 - accuracy: 0.9981 - val_loss: 0.9258 - val_accuracy: 0.9330 - lr: 2.5000e-04\n",
      "Epoch 15/15\n",
      "252/252 [==============================] - ETA: 0s - loss: 0.0083 - accuracy: 0.9976\n",
      "Epoch 15: ReduceLROnPlateau reducing learning rate to 0.0001250000059371814.\n",
      "252/252 [==============================] - 21s 83ms/step - loss: 0.0083 - accuracy: 0.9976 - val_loss: 0.9389 - val_accuracy: 0.9330 - lr: 2.5000e-04\n"
     ]
    }
   ],
   "source": [
    "epochs = 10\n",
    "learning_model.summary()\n",
    "history = learning_model.fit(train_data,steps_per_epoch=len(train_data),validation_data=val_data,validation_steps=len(val_data),epochs=epochs, callbacks=[learning_rate_reduction])"
   ],
   "metadata": {
    "collapsed": false,
    "pycharm": {
     "name": "#%%\n"
    }
   }
  },
  {
   "cell_type": "markdown",
   "source": [],
   "metadata": {
    "collapsed": false,
    "pycharm": {
     "name": "#%% md\n"
    }
   }
  },
  {
   "cell_type": "code",
   "execution_count": 39,
   "outputs": [
    {
     "data": {
      "text/plain": "<Figure size 576x576 with 2 Axes>",
      "image/png": "[encoded data removed]"
     },
     "metadata": {
      "needs_background": "light"
     },
     "output_type": "display_data"
    }
   ],
   "source": [
    "acc = history.history['accuracy']\n",
    "val_acc = history.history['val_accuracy']\n",
    "\n",
    "loss = history.history['loss']\n",
    "val_loss = history.history['val_loss']\n",
    "\n",
    "epochs_range = range(epochs)\n",
    "\n",
    "plt.figure(figsize=(8, 8))\n",
    "plt.subplot(1, 2, 1)\n",
    "plt.plot(epochs_range, acc, label='Training Accuracy')\n",
    "plt.plot(epochs_range, val_acc, label='Validation Accuracy')\n",
    "plt.legend(loc='lower right')\n",
    "plt.title('Training and Validation Accuracy')\n",
    "\n",
    "plt.subplot(1, 2, 2)\n",
    "plt.plot(epochs_range, loss, label='Training Loss')\n",
    "plt.plot(epochs_range, val_loss, label='Validation Loss')\n",
    "plt.legend(loc='upper right')\n",
    "plt.title('Training and Validation Loss')\n",
    "plt.show()"
   ],
   "metadata": {
    "collapsed": false,
    "pycharm": {
     "name": "#%%\n"
    }
   }
  },
  {
   "cell_type": "code",
   "execution_count": 65,
   "outputs": [
    {
     "data": {
      "text/plain": "array([[2.8706900e-33, 1.0000000e+00, 0.0000000e+00, 0.0000000e+00,\n        1.8171886e-14, 0.0000000e+00, 1.0547781e-28, 7.8126381e-33,\n        0.0000000e+00, 4.5410924e-09, 8.0645782e-17, 0.0000000e+00,\n        0.0000000e+00, 0.0000000e+00, 0.0000000e+00, 0.0000000e+00,\n        9.6628850e-36, 1.5844436e-27, 0.0000000e+00]], dtype=float32)"
     },
     "execution_count": 65,
     "metadata": {},
     "output_type": "execute_result"
    }
   ],
   "source": [
    "image = tf.keras.preprocessing.image.load_img('20.jpg', color_mode='grayscale')\n",
    "input_arr = tf.keras.preprocessing.image.img_to_array(image)\n",
    "input_arr = np.array([input_arr])\n",
    "learning_model.predict(input_arr)"
   ],
   "metadata": {
    "collapsed": false,
    "pycharm": {
     "name": "#%%\n"
    }
   }
  }
 ],
 "metadata": {
  "kernelspec": {
   "display_name": "Python 3",
   "language": "python",
   "name": "python3"
  },
  "language_info": {
   "codemirror_mode": {
    "name": "ipython",
    "version": 2
   },
   "file_extension": ".py",
   "mimetype": "text/x-python",
   "name": "python",
   "nbconvert_exporter": "python",
   "pygments_lexer": "ipython2",
   "version": "2.7.6"
  }
 },
 "nbformat": 4,
 "nbformat_minor": 0
}