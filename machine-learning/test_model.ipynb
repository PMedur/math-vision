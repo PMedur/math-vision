{
 "cells": [
  {
   "cell_type": "code",
   "execution_count": 21,
   "metadata": {
    "collapsed": true,
    "pycharm": {
     "name": "#%%\n"
    }
   },
   "outputs": [],
   "source": [
    "import tensorflow as tf\n",
    "from keras.models import Sequential\n",
    "from keras.layers import Dropout, Dense, Conv2D, Flatten, MaxPooling2D, BatchNormalization\n",
    "from keras.optimizers import adam_v2\n",
    "from keras.preprocessing.image import ImageDataGenerator\n",
    "from keras.callbacks import ReduceLROnPlateau\n",
    "import matplotlib.pyplot as plt\n",
    "import numpy as np"
   ]
  },
  {
   "cell_type": "code",
   "execution_count": 22,
   "outputs": [],
   "source": [
    "def create_model(num_classes):\n",
    "    model = Sequential()\n",
    "    model.add(Conv2D(32, (5, 5), input_shape=(100,100,1), activation=\"relu\"))\n",
    "    model.add(BatchNormalization())\n",
    "    model.add(Conv2D(32, (5, 5), activation=\"relu\"))\n",
    "    model.add(MaxPooling2D(pool_size=(2,2)))\n",
    "\n",
    "    model.add(Conv2D(64, (3, 3), activation=\"relu\"))\n",
    "    model.add(Conv2D(64, (3, 3), activation=\"relu\"))\n",
    "    model.add(MaxPooling2D(pool_size=(2,2)))\n",
    "    model.add(Dropout(0.5))\n",
    "\n",
    "    model.add(Flatten())\n",
    "    model.add(Dense(512, activation=\"relu\"))\n",
    "    model.add(Dropout(0.5))\n",
    "    model.add(Dense(num_classes, activation=\"softmax\"))\n",
    "    model.compile(optimizer=adam_v2.Adam(learning_rate=0.001), loss=\"sparse_categorical_crossentropy\", metrics=[\"accuracy\"])\n",
    "    return model"
   ],
   "metadata": {
    "collapsed": false,
    "pycharm": {
     "name": "#%%\n"
    }
   }
  },
  {
   "cell_type": "code",
   "execution_count": 25,
   "outputs": [
    {
     "name": "stdout",
     "output_type": "stream",
     "text": [
      "Found 10071 files belonging to 19 classes.\n",
      "Using 8057 files for training.\n",
      "Found 10071 files belonging to 19 classes.\n",
      "Using 2014 files for validation.\n"
     ]
    }
   ],
   "source": [
    "data_gen = ImageDataGenerator(\n",
    "    preprocessing_function=im_processor.preprocess_img,\n",
    "    featurewise_center=False,  # set input mean to 0 over the dataset\n",
    "    samplewise_center=False,  # set each sample mean to 0\n",
    "    featurewise_std_normalization=False,  # divide inputs by std of the dataset\n",
    "    samplewise_std_normalization=False,  # divide each input by its std\n",
    "    zca_whitening=False,  # apply ZCA whitening\n",
    "    rotation_range=10,  # randomly rotate images in the range (degrees, 0 to 180)\n",
    "    zoom_range = 0.1, # Randomly zoom image\n",
    "    width_shift_range=0.1,  # randomly shift images horizontally (fraction of total width)\n",
    "    height_shift_range=0.1,  # randomly shift images vertically (fraction of total height)\n",
    "    horizontal_flip=False,  # randomly flip images\n",
    "    vertical_flip=False,\n",
    "    validation_split=0.1)\n",
    "\n",
    "batch_size = 32\n",
    "# train_data = data_gen.flow_from_directory('dataset/', target_size=(100,100), color_mode='grayscale', class_mode='categorical', batch_size=batch_size, subset='training', shuffle=True)\n",
    "train_data = tf.keras.utils.image_dataset_from_directory(\n",
    "    'dataset/',\n",
    "    validation_split=0.2,\n",
    "    subset='training',\n",
    "    seed=123,\n",
    "    image_size=(100,100),\n",
    "    batch_size=batch_size,\n",
    "    color_mode='grayscale',\n",
    "    shuffle=True,\n",
    ")\n",
    "\n",
    "val_data = tf.keras.utils.image_dataset_from_directory(\n",
    "    'dataset/',\n",
    "    image_size=(100,100),\n",
    "    validation_split=0.2,\n",
    "    color_mode='grayscale',\n",
    "    batch_size=batch_size,\n",
    "    subset='validation',\n",
    "    shuffle=True,\n",
    "    seed=123\n",
    ")"
   ],
   "metadata": {
    "collapsed": false,
    "pycharm": {
     "name": "#%%\n"
    }
   }
  },
  {
   "cell_type": "code",
   "execution_count": 27,
   "outputs": [],
   "source": [
    "# learning_rate_reduction = ReduceLROnPlateau(monitor='val_acc',\n",
    "#                                             patience=3,\n",
    "#                                             verbose=1,\n",
    "#                                             factor=0.5,\n",
    "#                                             min_lr=0.00001)"
   ],
   "metadata": {
    "collapsed": false,
    "pycharm": {
     "name": "#%%\n"
    }
   }
  },
  {
   "cell_type": "code",
   "execution_count": 28,
   "outputs": [],
   "source": [
    "learning_model = create_model(num_classes=19)"
   ],
   "metadata": {
    "collapsed": false,
    "pycharm": {
     "name": "#%%\n"
    }
   }
  },
  {
   "cell_type": "code",
   "execution_count": 58,
   "outputs": [
    {
     "name": "stdout",
     "output_type": "stream",
     "text": [
      "Model: \"sequential_1\"\n",
      "_________________________________________________________________\n",
      " Layer (type)                Output Shape              Param #   \n",
      "=================================================================\n",
      " conv2d_4 (Conv2D)           (None, 96, 96, 32)        832       \n",
      "                                                                 \n",
      " batch_normalization_1 (Batc  (None, 96, 96, 32)       128       \n",
      " hNormalization)                                                 \n",
      "                                                                 \n",
      " conv2d_5 (Conv2D)           (None, 92, 92, 32)        25632     \n",
      "                                                                 \n",
      " max_pooling2d_2 (MaxPooling  (None, 46, 46, 32)       0         \n",
      " 2D)                                                             \n",
      "                                                                 \n",
      " conv2d_6 (Conv2D)           (None, 44, 44, 64)        18496     \n",
      "                                                                 \n",
      " conv2d_7 (Conv2D)           (None, 42, 42, 64)        36928     \n",
      "                                                                 \n",
      " max_pooling2d_3 (MaxPooling  (None, 21, 21, 64)       0         \n",
      " 2D)                                                             \n",
      "                                                                 \n",
      " dropout_2 (Dropout)         (None, 21, 21, 64)        0         \n",
      "                                                                 \n",
      " flatten_1 (Flatten)         (None, 28224)             0         \n",
      "                                                                 \n",
      " dense_2 (Dense)             (None, 512)               14451200  \n",
      "                                                                 \n",
      " dropout_3 (Dropout)         (None, 512)               0         \n",
      "                                                                 \n",
      " dense_3 (Dense)             (None, 19)                9747      \n",
      "                                                                 \n",
      "=================================================================\n",
      "Total params: 14,542,963\n",
      "Trainable params: 14,542,899\n",
      "Non-trainable params: 64\n",
      "_________________________________________________________________\n",
      "Epoch 1/15\n",
      "252/252 [==============================] - 17s 67ms/step - loss: 0.1396 - accuracy: 0.9546 - val_loss: 0.3875 - val_accuracy: 0.9106\n",
      "Epoch 2/15\n",
      "252/252 [==============================] - 18s 73ms/step - loss: 0.1233 - accuracy: 0.9626 - val_loss: 0.3577 - val_accuracy: 0.9062\n",
      "Epoch 3/15\n",
      "252/252 [==============================] - 18s 72ms/step - loss: 0.1114 - accuracy: 0.9629 - val_loss: 0.4563 - val_accuracy: 0.9017\n",
      "Epoch 4/15\n",
      "252/252 [==============================] - 19s 75ms/step - loss: 0.0925 - accuracy: 0.9690 - val_loss: 0.3446 - val_accuracy: 0.9136\n",
      "Epoch 5/15\n",
      "252/252 [==============================] - 18s 72ms/step - loss: 0.0893 - accuracy: 0.9723 - val_loss: 0.3746 - val_accuracy: 0.9225\n",
      "Epoch 6/15\n",
      "252/252 [==============================] - 19s 74ms/step - loss: 0.0772 - accuracy: 0.9755 - val_loss: 0.4245 - val_accuracy: 0.9141\n",
      "Epoch 7/15\n",
      "252/252 [==============================] - 18s 73ms/step - loss: 0.0755 - accuracy: 0.9736 - val_loss: 1.1638 - val_accuracy: 0.6787\n",
      "Epoch 8/15\n",
      "252/252 [==============================] - 19s 74ms/step - loss: 0.0898 - accuracy: 0.9722 - val_loss: 0.3714 - val_accuracy: 0.9186\n",
      "Epoch 9/15\n",
      "252/252 [==============================] - 19s 73ms/step - loss: 0.0622 - accuracy: 0.9798 - val_loss: 0.3968 - val_accuracy: 0.9171\n",
      "Epoch 10/15\n",
      "252/252 [==============================] - 19s 74ms/step - loss: 0.0586 - accuracy: 0.9809 - val_loss: 0.3396 - val_accuracy: 0.9270\n",
      "Epoch 11/15\n",
      "252/252 [==============================] - 18s 72ms/step - loss: 0.0596 - accuracy: 0.9794 - val_loss: 0.4255 - val_accuracy: 0.9225\n",
      "Epoch 12/15\n",
      "252/252 [==============================] - 18s 72ms/step - loss: 0.0592 - accuracy: 0.9819 - val_loss: 0.3987 - val_accuracy: 0.9101\n",
      "Epoch 13/15\n",
      "252/252 [==============================] - 18s 72ms/step - loss: 0.0570 - accuracy: 0.9824 - val_loss: 0.3310 - val_accuracy: 0.9320\n",
      "Epoch 14/15\n",
      "252/252 [==============================] - 18s 71ms/step - loss: 0.0524 - accuracy: 0.9834 - val_loss: 0.4223 - val_accuracy: 0.9151\n",
      "Epoch 15/15\n",
      "252/252 [==============================] - 18s 71ms/step - loss: 0.0598 - accuracy: 0.9826 - val_loss: 0.3469 - val_accuracy: 0.9295\n"
     ]
    }
   ],
   "source": [
    "epochs = 15\n",
    "learning_model.summary()\n",
    "history = learning_model.fit(train_data,steps_per_epoch=len(train_data)*batch_size//batch_size,validation_data=val_data,validation_steps=len(val_data)*batch_size//batch_size,epochs=epochs)"
   ],
   "metadata": {
    "collapsed": false,
    "pycharm": {
     "name": "#%%\n"
    }
   }
  },
  {
   "cell_type": "markdown",
   "source": [],
   "metadata": {
    "collapsed": false,
    "pycharm": {
     "name": "#%% md\n"
    }
   }
  },
  {
   "cell_type": "code",
   "execution_count": 59,
   "outputs": [
    {
     "data": {
      "text/plain": "<Figure size 576x576 with 2 Axes>",
      "image/png": "[encoded data removed]"
     },
     "metadata": {
      "needs_background": "light"
     },
     "output_type": "display_data"
    }
   ],
   "source": [
    "acc = history.history['accuracy']\n",
    "val_acc = history.history['val_accuracy']\n",
    "\n",
    "loss = history.history['loss']\n",
    "val_loss = history.history['val_loss']\n",
    "\n",
    "epochs_range = range(epochs)\n",
    "\n",
    "plt.figure(figsize=(8, 8))\n",
    "plt.subplot(1, 2, 1)\n",
    "plt.plot(epochs_range, acc, label='Training Accuracy')\n",
    "plt.plot(epochs_range, val_acc, label='Validation Accuracy')\n",
    "plt.legend(loc='lower right')\n",
    "plt.title('Training and Validation Accuracy')\n",
    "\n",
    "plt.subplot(1, 2, 2)\n",
    "plt.plot(epochs_range, loss, label='Training Loss')\n",
    "plt.plot(epochs_range, val_loss, label='Validation Loss')\n",
    "plt.legend(loc='upper right')\n",
    "plt.title('Training and Validation Loss')\n",
    "plt.show()"
   ],
   "metadata": {
    "collapsed": false,
    "pycharm": {
     "name": "#%%\n"
    }
   }
  },
  {
   "cell_type": "code",
   "execution_count": 65,
   "outputs": [
    {
     "data": {
      "text/plain": "array([[2.4197737e-08, 9.9988520e-01, 1.3704108e-08, 8.0795692e-10,\n        6.8923451e-05, 1.2947954e-06, 3.6446505e-07, 4.4519907e-06,\n        6.6758339e-08, 5.5175756e-06, 1.2004211e-05, 1.8541032e-05,\n        1.5502637e-07, 1.0592506e-11, 3.8534560e-07, 4.2102308e-10,\n        2.9345797e-06, 1.0396623e-08, 4.7380499e-15]], dtype=float32)"
     },
     "execution_count": 65,
     "metadata": {},
     "output_type": "execute_result"
    }
   ],
   "source": [
    "image = tf.keras.preprocessing.image.load_img('6.jpg', color_mode='grayscale')\n",
    "input_arr = tf.keras.preprocessing.image.img_to_array(image)\n",
    "input_arr = np.array([input_arr])\n",
    "learning_model.predict(input_arr)"
   ],
   "metadata": {
    "collapsed": false,
    "pycharm": {
     "name": "#%%\n"
    }
   }
  }
 ],
 "metadata": {
  "kernelspec": {
   "display_name": "Python 3",
   "language": "python",
   "name": "python3"
  },
  "language_info": {
   "codemirror_mode": {
    "name": "ipython",
    "version": 2
   },
   "file_extension": ".py",
   "mimetype": "text/x-python",
   "name": "python",
   "nbconvert_exporter": "python",
   "pygments_lexer": "ipython2",
   "version": "2.7.6"
  }
 },
 "nbformat": 4,
 "nbformat_minor": 0
}